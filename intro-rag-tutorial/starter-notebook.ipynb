{
 "cells": [
  {
   "cell_type": "markdown",
   "metadata": {},
   "source": [
    "This notebook gets you familiar with some llama index setup, tracing, and how to programmatically query openai.\n"
   ]
  },
  {
   "cell_type": "code",
   "execution_count": null,
   "metadata": {},
   "outputs": [],
   "source": [
    "# install deps -- % makes sure they install in the current virtual env\n",
    "%pip install transformers\n",
    "%pip install torch torchvision torchaudio\n",
    "%pip install llama-index\n",
    "%pip install arize-phoenix"
   ]
  },
  {
   "cell_type": "code",
   "execution_count": null,
   "metadata": {},
   "outputs": [],
   "source": [
    "# set up tracing\n",
    "from llama_index import set_global_handler\n",
    "import phoenix as px\n",
    "\n",
    "set_global_handler(\"arize_phoenix\")\n",
    "px.launch_app()"
   ]
  },
  {
   "cell_type": "code",
   "execution_count": null,
   "metadata": {},
   "outputs": [],
   "source": [
    "# stub out the index for demo purposes\n",
    "from llama_index import (\n",
    "    VectorStoreIndex,\n",
    ")\n",
    "\n",
    "from llama_index.schema import Document\n",
    "\n",
    "document = Document(text=\"foobar\")\n",
    "\n",
    "index = VectorStoreIndex.from_documents([document])"
   ]
  },
  {
   "cell_type": "code",
   "execution_count": null,
   "metadata": {},
   "outputs": [],
   "source": [
    "from llama_index.prompts import PromptTemplate\n",
    "# this is just our local shared prompt\n",
    "from prompt import base_prompt\n",
    "\n",
    "text_qa_template_str = \"\"\"\n",
    "Answer the question: {query_str} in list form. Do not make up any information.\n",
    "\"\"\"\n",
    "\n",
    "text_qa_template = PromptTemplate(text_qa_template_str)\n",
    "\n",
    "no_rag_context_query_engine = index.as_query_engine(text_qa_template=text_qa_template)\n",
    "\n",
    "response = no_rag_context_query_engine.query(base_prompt)\n",
    "print(response)"
   ]
  }
 ],
 "metadata": {
  "kernelspec": {
   "display_name": "myenv",
   "language": "python",
   "name": "python3"
  },
  "language_info": {
   "codemirror_mode": {
    "name": "ipython",
    "version": 3
   },
   "file_extension": ".py",
   "mimetype": "text/x-python",
   "name": "python",
   "nbconvert_exporter": "python",
   "pygments_lexer": "ipython3",
   "version": "3.9.6"
  }
 },
 "nbformat": 4,
 "nbformat_minor": 2
}
