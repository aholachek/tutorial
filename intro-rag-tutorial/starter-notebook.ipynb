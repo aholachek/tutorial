{
 "cells": [
  {
   "cell_type": "markdown",
   "metadata": {},
   "source": [
    "This notebook gets you familiar with some llama index setup and how to programmatically query openai.\n"
   ]
  },
  {
   "cell_type": "code",
   "execution_count": 1,
   "metadata": {},
   "outputs": [
    {
     "name": "stdout",
     "output_type": "stream",
     "text": [
      "Collecting llama-index\n",
      "  Downloading llama_index-0.9.25.post1-py3-none-any.whl (15.8 MB)\n",
      "\u001b[K     |████████████████████████████████| 15.8 MB 3.8 MB/s eta 0:00:01     |███████████████████████████▉    | 13.7 MB 3.8 MB/s eta 0:00:01\n",
      "\u001b[?25hCollecting tiktoken>=0.3.3\n",
      "  Using cached tiktoken-0.5.2-cp39-cp39-macosx_11_0_arm64.whl (955 kB)\n",
      "Requirement already satisfied: nest-asyncio<2.0.0,>=1.5.8 in /Users/alex.holachek/Desktop/tutorial/myenv/lib/python3.9/site-packages (from llama-index) (1.5.8)\n",
      "Requirement already satisfied: typing-extensions>=4.5.0 in /Users/alex.holachek/Desktop/tutorial/myenv/lib/python3.9/site-packages (from llama-index) (4.9.0)\n",
      "Collecting pandas\n",
      "  Using cached pandas-2.1.4-cp39-cp39-macosx_11_0_arm64.whl (11.0 MB)\n",
      "Collecting httpx\n",
      "  Using cached httpx-0.26.0-py3-none-any.whl (75 kB)\n",
      "Collecting fsspec>=2023.5.0\n",
      "  Using cached fsspec-2023.12.2-py3-none-any.whl (168 kB)\n",
      "Collecting typing-inspect>=0.8.0\n",
      "  Using cached typing_inspect-0.9.0-py3-none-any.whl (8.8 kB)\n",
      "Collecting aiohttp<4.0.0,>=3.8.6\n",
      "  Using cached aiohttp-3.9.1-cp39-cp39-macosx_11_0_arm64.whl (387 kB)\n",
      "Collecting dataclasses-json\n",
      "  Using cached dataclasses_json-0.6.3-py3-none-any.whl (28 kB)\n",
      "Collecting deprecated>=1.2.9.3\n",
      "  Using cached Deprecated-1.2.14-py2.py3-none-any.whl (9.6 kB)\n",
      "Collecting openai>=1.1.0\n",
      "  Using cached openai-1.6.1-py3-none-any.whl (225 kB)\n",
      "Collecting beautifulsoup4<5.0.0,>=4.12.2\n",
      "  Using cached beautifulsoup4-4.12.2-py3-none-any.whl (142 kB)\n",
      "Collecting numpy\n",
      "  Using cached numpy-1.26.3-cp39-cp39-macosx_11_0_arm64.whl (14.0 MB)\n",
      "Collecting requests>=2.31.0\n",
      "  Using cached requests-2.31.0-py3-none-any.whl (62 kB)\n",
      "Collecting tenacity<9.0.0,>=8.2.0\n",
      "  Using cached tenacity-8.2.3-py3-none-any.whl (24 kB)\n",
      "Collecting SQLAlchemy[asyncio]>=1.4.49\n",
      "  Using cached SQLAlchemy-2.0.25-cp39-cp39-macosx_11_0_arm64.whl (2.1 MB)\n",
      "Collecting nltk<4.0.0,>=3.8.1\n",
      "  Using cached nltk-3.8.1-py3-none-any.whl (1.5 MB)\n",
      "Collecting attrs>=17.3.0\n",
      "  Using cached attrs-23.2.0-py3-none-any.whl (60 kB)\n",
      "Collecting frozenlist>=1.1.1\n",
      "  Using cached frozenlist-1.4.1-cp39-cp39-macosx_11_0_arm64.whl (53 kB)\n",
      "Collecting aiosignal>=1.1.2\n",
      "  Using cached aiosignal-1.3.1-py3-none-any.whl (7.6 kB)\n",
      "Collecting yarl<2.0,>=1.0\n",
      "  Using cached yarl-1.9.4-cp39-cp39-macosx_11_0_arm64.whl (81 kB)\n",
      "Collecting async-timeout<5.0,>=4.0\n",
      "  Using cached async_timeout-4.0.3-py3-none-any.whl (5.7 kB)\n",
      "Collecting multidict<7.0,>=4.5\n",
      "  Using cached multidict-6.0.4-cp39-cp39-macosx_11_0_arm64.whl (29 kB)\n",
      "Collecting soupsieve>1.2\n",
      "  Using cached soupsieve-2.5-py3-none-any.whl (36 kB)\n",
      "Collecting wrapt<2,>=1.10\n",
      "  Using cached wrapt-1.16.0-cp39-cp39-macosx_11_0_arm64.whl (38 kB)\n",
      "Collecting click\n",
      "  Using cached click-8.1.7-py3-none-any.whl (97 kB)\n",
      "Collecting regex>=2021.8.3\n",
      "  Using cached regex-2023.12.25-cp39-cp39-macosx_11_0_arm64.whl (291 kB)\n",
      "Collecting joblib\n",
      "  Using cached joblib-1.3.2-py3-none-any.whl (302 kB)\n",
      "Collecting tqdm\n",
      "  Using cached tqdm-4.66.1-py3-none-any.whl (78 kB)\n",
      "Collecting anyio<5,>=3.5.0\n",
      "  Using cached anyio-4.2.0-py3-none-any.whl (85 kB)\n",
      "Collecting sniffio\n",
      "  Using cached sniffio-1.3.0-py3-none-any.whl (10 kB)\n",
      "Collecting distro<2,>=1.7.0\n",
      "  Using cached distro-1.9.0-py3-none-any.whl (20 kB)\n",
      "Collecting pydantic<3,>=1.9.0\n",
      "  Using cached pydantic-2.5.3-py3-none-any.whl (381 kB)\n",
      "Collecting idna>=2.8\n",
      "  Using cached idna-3.6-py3-none-any.whl (61 kB)\n",
      "Requirement already satisfied: exceptiongroup>=1.0.2 in /Users/alex.holachek/Desktop/tutorial/myenv/lib/python3.9/site-packages (from anyio<5,>=3.5.0->openai>=1.1.0->llama-index) (1.2.0)\n",
      "Collecting httpcore==1.*\n",
      "  Using cached httpcore-1.0.2-py3-none-any.whl (76 kB)\n",
      "Collecting certifi\n",
      "  Using cached certifi-2023.11.17-py3-none-any.whl (162 kB)\n",
      "Collecting h11<0.15,>=0.13\n",
      "  Using cached h11-0.14.0-py3-none-any.whl (58 kB)\n",
      "Collecting pydantic-core==2.14.6\n",
      "  Using cached pydantic_core-2.14.6-cp39-cp39-macosx_11_0_arm64.whl (1.7 MB)\n",
      "Collecting annotated-types>=0.4.0\n",
      "  Using cached annotated_types-0.6.0-py3-none-any.whl (12 kB)\n",
      "Collecting urllib3<3,>=1.21.1\n",
      "  Using cached urllib3-2.1.0-py3-none-any.whl (104 kB)\n",
      "Collecting charset-normalizer<4,>=2\n",
      "  Using cached charset_normalizer-3.3.2-cp39-cp39-macosx_11_0_arm64.whl (120 kB)\n",
      "Collecting greenlet!=0.4.17\n",
      "  Using cached greenlet-3.0.3-cp39-cp39-macosx_11_0_universal2.whl (269 kB)\n",
      "Collecting mypy-extensions>=0.3.0\n",
      "  Using cached mypy_extensions-1.0.0-py3-none-any.whl (4.7 kB)\n",
      "Collecting marshmallow<4.0.0,>=3.18.0\n",
      "  Using cached marshmallow-3.20.1-py3-none-any.whl (49 kB)\n",
      "Requirement already satisfied: packaging>=17.0 in /Users/alex.holachek/Desktop/tutorial/myenv/lib/python3.9/site-packages (from marshmallow<4.0.0,>=3.18.0->dataclasses-json->llama-index) (23.2)\n",
      "Collecting pytz>=2020.1\n",
      "  Using cached pytz-2023.3.post1-py2.py3-none-any.whl (502 kB)\n",
      "Collecting tzdata>=2022.1\n",
      "  Using cached tzdata-2023.4-py2.py3-none-any.whl (346 kB)\n",
      "Requirement already satisfied: python-dateutil>=2.8.2 in /Users/alex.holachek/Desktop/tutorial/myenv/lib/python3.9/site-packages (from pandas->llama-index) (2.8.2)\n",
      "Requirement already satisfied: six>=1.5 in /Users/alex.holachek/Desktop/tutorial/myenv/lib/python3.9/site-packages (from python-dateutil>=2.8.2->pandas->llama-index) (1.16.0)\n",
      "Installing collected packages: sniffio, idna, h11, certifi, urllib3, pydantic-core, mypy-extensions, multidict, httpcore, frozenlist, charset-normalizer, anyio, annotated-types, yarl, wrapt, tzdata, typing-inspect, tqdm, SQLAlchemy, soupsieve, requests, regex, pytz, pydantic, numpy, marshmallow, joblib, httpx, greenlet, distro, click, attrs, async-timeout, aiosignal, tiktoken, tenacity, pandas, openai, nltk, fsspec, deprecated, dataclasses-json, beautifulsoup4, aiohttp, llama-index\n",
      "Successfully installed SQLAlchemy-2.0.25 aiohttp-3.9.1 aiosignal-1.3.1 annotated-types-0.6.0 anyio-4.2.0 async-timeout-4.0.3 attrs-23.2.0 beautifulsoup4-4.12.2 certifi-2023.11.17 charset-normalizer-3.3.2 click-8.1.7 dataclasses-json-0.6.3 deprecated-1.2.14 distro-1.9.0 frozenlist-1.4.1 fsspec-2023.12.2 greenlet-3.0.3 h11-0.14.0 httpcore-1.0.2 httpx-0.26.0 idna-3.6 joblib-1.3.2 llama-index-0.9.25.post1 marshmallow-3.20.1 multidict-6.0.4 mypy-extensions-1.0.0 nltk-3.8.1 numpy-1.26.3 openai-1.6.1 pandas-2.1.4 pydantic-2.5.3 pydantic-core-2.14.6 pytz-2023.3.post1 regex-2023.12.25 requests-2.31.0 sniffio-1.3.0 soupsieve-2.5 tenacity-8.2.3 tiktoken-0.5.2 tqdm-4.66.1 typing-inspect-0.9.0 tzdata-2023.4 urllib3-2.1.0 wrapt-1.16.0 yarl-1.9.4\n",
      "\u001b[33mWARNING: You are using pip version 21.2.4; however, version 23.3.2 is available.\n",
      "You should consider upgrading via the '/Users/alex.holachek/Desktop/tutorial/myenv/bin/python -m pip install --upgrade pip' command.\u001b[0m\n",
      "Note: you may need to restart the kernel to use updated packages.\n"
     ]
    }
   ],
   "source": [
    "# install deps -- % makes sure they install in the current virtual env\n",
    "%pip install llama-index"
   ]
  },
  {
   "cell_type": "code",
   "execution_count": 2,
   "metadata": {},
   "outputs": [
    {
     "name": "stderr",
     "output_type": "stream",
     "text": [
      "/Users/alex.holachek/Desktop/tutorial/myenv/lib/python3.9/site-packages/urllib3/__init__.py:34: NotOpenSSLWarning: urllib3 v2 only supports OpenSSL 1.1.1+, currently the 'ssl' module is compiled with 'LibreSSL 2.8.3'. See: https://github.com/urllib3/urllib3/issues/3020\n",
      "  warnings.warn(\n"
     ]
    }
   ],
   "source": [
    "# stub out the index for demo purposes\n",
    "from llama_index import (\n",
    "    VectorStoreIndex,\n",
    ")\n",
    "\n",
    "from llama_index.schema import Document\n",
    "\n",
    "document = Document(text=\"foobar\")\n",
    "\n",
    "index = VectorStoreIndex.from_documents([document])"
   ]
  },
  {
   "cell_type": "code",
   "execution_count": 3,
   "metadata": {},
   "outputs": [
    {
     "name": "stdout",
     "output_type": "stream",
     "text": [
      "- Jimmy McGill, a struggling lawyer, tries to make a name for himself by taking on a new client, Kettlemans, who embezzled money from the county treasury.\n",
      "- Jimmy discovers that the Kettlemans have hired another lawyer, Kim Wexler, from his brother's law firm.\n",
      "- Jimmy tries to convince Kim to let him handle the case, but she refuses.\n",
      "- Jimmy decides to investigate the Kettlemans' house and finds evidence of their embezzlement.\n",
      "- He presents the evidence to Kim, who is impressed and agrees to let him handle the case.\n",
      "- Jimmy confronts the Kettlemans and convinces them to let him represent them.\n",
      "- Meanwhile, Jimmy's brother, Chuck, who suffers from electromagnetic hypersensitivity, struggles with his condition and refuses to leave his house.\n",
      "- Jimmy brings the Kettlemans' case to HHM, his brother's law firm, but they decline to take it.\n",
      "- Jimmy decides to go forward with the case on his own, against the advice of Kim and Chuck.\n"
     ]
    }
   ],
   "source": [
    "from llama_index.prompts import PromptTemplate\n",
    "# this is just our local shared prompt\n",
    "from prompt import base_prompt\n",
    "\n",
    "text_qa_template_str = \"\"\"\n",
    "Answer the question: {query_str} in list form. Do not make up any information.\n",
    "\"\"\"\n",
    "\n",
    "text_qa_template = PromptTemplate(text_qa_template_str)\n",
    "\n",
    "no_rag_context_query_engine = index.as_query_engine(text_qa_template=text_qa_template)\n",
    "\n",
    "response = no_rag_context_query_engine.query(base_prompt)\n",
    "print(response)"
   ]
  }
 ],
 "metadata": {
  "kernelspec": {
   "display_name": "myenv",
   "language": "python",
   "name": "python3"
  },
  "language_info": {
   "codemirror_mode": {
    "name": "ipython",
    "version": 3
   },
   "file_extension": ".py",
   "mimetype": "text/x-python",
   "name": "python",
   "nbconvert_exporter": "python",
   "pygments_lexer": "ipython3",
   "version": "3.9.6"
  }
 },
 "nbformat": 4,
 "nbformat_minor": 2
}
