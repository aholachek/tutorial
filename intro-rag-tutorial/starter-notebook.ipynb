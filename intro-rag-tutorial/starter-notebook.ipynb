{
 "cells": [
  {
   "cell_type": "markdown",
   "metadata": {},
   "source": [
    "This notebook gets you familiar with some llama index setup and how to programmatically query openai.\n"
   ]
  },
  {
   "cell_type": "code",
   "execution_count": null,
   "metadata": {},
   "outputs": [],
   "source": [
    "# install deps -- % makes sure they install in the current virtual env\n",
    "%pip install llama-index"
   ]
  },
  {
   "cell_type": "code",
   "execution_count": null,
   "metadata": {},
   "outputs": [],
   "source": [
    "# stub out the index for demo purposes\n",
    "from llama_index import (\n",
    "    VectorStoreIndex,\n",
    ")\n",
    "\n",
    "from llama_index.schema import Document\n",
    "\n",
    "document = Document(text=\"foobar\")\n",
    "\n",
    "index = VectorStoreIndex.from_documents([document])"
   ]
  },
  {
   "cell_type": "code",
   "execution_count": null,
   "metadata": {},
   "outputs": [],
   "source": [
    "base_prompt = \"What happened in episode 3 of season 1 of Better Call Saul? Summarize the episode in bullet points.\""
   ]
  },
  {
   "cell_type": "code",
   "execution_count": null,
   "metadata": {},
   "outputs": [],
   "source": [
    "from llama_index.prompts import PromptTemplate\n",
    "\n",
    "# the most simple possible template\n",
    "text_qa_template_str = \"\"\"\n",
    "{query_str}\n",
    "\"\"\"\n",
    "\n",
    "text_qa_template = PromptTemplate(text_qa_template_str)\n",
    "\n",
    "no_rag_context_query_engine = index.as_query_engine(text_qa_template=text_qa_template)\n",
    "\n",
    "response = no_rag_context_query_engine.query(base_prompt)\n",
    "\n",
    "print(response)"
   ]
  },
  {
   "cell_type": "markdown",
   "metadata": {},
   "source": [
    "### Editing the Prompt\n"
   ]
  },
  {
   "cell_type": "code",
   "execution_count": null,
   "metadata": {},
   "outputs": [],
   "source": [
    "# let's try a new template that attempts to ward off hallucinations\n",
    "text_qa_template_str = \"\"\"\n",
    "Answer the question: {query_str}. If you don't know the answer, say \"I don't know\".\n",
    "\"\"\"\n",
    "\n",
    "text_qa_template = PromptTemplate(text_qa_template_str)\n",
    "\n",
    "no_rag_context_query_engine = index.as_query_engine(text_qa_template=text_qa_template)\n",
    "\n",
    "response = no_rag_context_query_engine.query(base_prompt)\n",
    "print(response)"
   ]
  },
  {
   "cell_type": "code",
   "execution_count": null,
   "metadata": {},
   "outputs": [],
   "source": []
  }
 ],
 "metadata": {
  "kernelspec": {
   "display_name": "myenv",
   "language": "python",
   "name": "python3"
  },
  "language_info": {
   "codemirror_mode": {
    "name": "ipython",
    "version": 3
   },
   "file_extension": ".py",
   "mimetype": "text/x-python",
   "name": "python",
   "nbconvert_exporter": "python",
   "pygments_lexer": "ipython3",
   "version": "3.9.6"
  }
 },
 "nbformat": 4,
 "nbformat_minor": 2
}
