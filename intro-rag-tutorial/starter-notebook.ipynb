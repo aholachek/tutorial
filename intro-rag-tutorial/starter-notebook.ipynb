{
 "cells": [
  {
   "cell_type": "markdown",
   "metadata": {},
   "source": [
    "This notebook gets you familiar with some llama index setup and how to programmatically query openai.\n"
   ]
  },
  {
   "cell_type": "code",
   "execution_count": 1,
   "metadata": {},
   "outputs": [
    {
     "name": "stdout",
     "output_type": "stream",
     "text": [
      "Requirement already satisfied: llama-index in /Users/alex.holachek/Desktop/tutorial/myenv/lib/python3.9/site-packages (0.9.25.post1)\n",
      "Requirement already satisfied: beautifulsoup4<5.0.0,>=4.12.2 in /Users/alex.holachek/Desktop/tutorial/myenv/lib/python3.9/site-packages (from llama-index) (4.12.2)\n",
      "Requirement already satisfied: requests>=2.31.0 in /Users/alex.holachek/Desktop/tutorial/myenv/lib/python3.9/site-packages (from llama-index) (2.31.0)\n",
      "Requirement already satisfied: fsspec>=2023.5.0 in /Users/alex.holachek/Desktop/tutorial/myenv/lib/python3.9/site-packages (from llama-index) (2023.12.2)\n",
      "Requirement already satisfied: SQLAlchemy[asyncio]>=1.4.49 in /Users/alex.holachek/Desktop/tutorial/myenv/lib/python3.9/site-packages (from llama-index) (2.0.25)\n",
      "Requirement already satisfied: aiohttp<4.0.0,>=3.8.6 in /Users/alex.holachek/Desktop/tutorial/myenv/lib/python3.9/site-packages (from llama-index) (3.9.1)\n",
      "Requirement already satisfied: nltk<4.0.0,>=3.8.1 in /Users/alex.holachek/Desktop/tutorial/myenv/lib/python3.9/site-packages (from llama-index) (3.8.1)\n",
      "Requirement already satisfied: tenacity<9.0.0,>=8.2.0 in /Users/alex.holachek/Desktop/tutorial/myenv/lib/python3.9/site-packages (from llama-index) (8.2.3)\n",
      "Requirement already satisfied: dataclasses-json in /Users/alex.holachek/Desktop/tutorial/myenv/lib/python3.9/site-packages (from llama-index) (0.6.3)\n",
      "Requirement already satisfied: httpx in /Users/alex.holachek/Desktop/tutorial/myenv/lib/python3.9/site-packages (from llama-index) (0.26.0)\n",
      "Requirement already satisfied: nest-asyncio<2.0.0,>=1.5.8 in /Users/alex.holachek/Desktop/tutorial/myenv/lib/python3.9/site-packages (from llama-index) (1.5.8)\n",
      "Requirement already satisfied: deprecated>=1.2.9.3 in /Users/alex.holachek/Desktop/tutorial/myenv/lib/python3.9/site-packages (from llama-index) (1.2.14)\n",
      "Requirement already satisfied: typing-inspect>=0.8.0 in /Users/alex.holachek/Desktop/tutorial/myenv/lib/python3.9/site-packages (from llama-index) (0.9.0)\n",
      "Requirement already satisfied: openai>=1.1.0 in /Users/alex.holachek/Desktop/tutorial/myenv/lib/python3.9/site-packages (from llama-index) (1.6.1)\n",
      "Requirement already satisfied: pandas in /Users/alex.holachek/Desktop/tutorial/myenv/lib/python3.9/site-packages (from llama-index) (2.1.4)\n",
      "Requirement already satisfied: numpy in /Users/alex.holachek/Desktop/tutorial/myenv/lib/python3.9/site-packages (from llama-index) (1.26.3)\n",
      "Requirement already satisfied: tiktoken>=0.3.3 in /Users/alex.holachek/Desktop/tutorial/myenv/lib/python3.9/site-packages (from llama-index) (0.5.2)\n",
      "Requirement already satisfied: typing-extensions>=4.5.0 in /Users/alex.holachek/Desktop/tutorial/myenv/lib/python3.9/site-packages (from llama-index) (4.9.0)\n",
      "Requirement already satisfied: frozenlist>=1.1.1 in /Users/alex.holachek/Desktop/tutorial/myenv/lib/python3.9/site-packages (from aiohttp<4.0.0,>=3.8.6->llama-index) (1.4.1)\n",
      "Requirement already satisfied: aiosignal>=1.1.2 in /Users/alex.holachek/Desktop/tutorial/myenv/lib/python3.9/site-packages (from aiohttp<4.0.0,>=3.8.6->llama-index) (1.3.1)\n",
      "Requirement already satisfied: attrs>=17.3.0 in /Users/alex.holachek/Desktop/tutorial/myenv/lib/python3.9/site-packages (from aiohttp<4.0.0,>=3.8.6->llama-index) (23.2.0)\n",
      "Requirement already satisfied: multidict<7.0,>=4.5 in /Users/alex.holachek/Desktop/tutorial/myenv/lib/python3.9/site-packages (from aiohttp<4.0.0,>=3.8.6->llama-index) (6.0.4)\n",
      "Requirement already satisfied: yarl<2.0,>=1.0 in /Users/alex.holachek/Desktop/tutorial/myenv/lib/python3.9/site-packages (from aiohttp<4.0.0,>=3.8.6->llama-index) (1.9.4)\n",
      "Requirement already satisfied: async-timeout<5.0,>=4.0 in /Users/alex.holachek/Desktop/tutorial/myenv/lib/python3.9/site-packages (from aiohttp<4.0.0,>=3.8.6->llama-index) (4.0.3)\n",
      "Requirement already satisfied: soupsieve>1.2 in /Users/alex.holachek/Desktop/tutorial/myenv/lib/python3.9/site-packages (from beautifulsoup4<5.0.0,>=4.12.2->llama-index) (2.5)\n",
      "Requirement already satisfied: wrapt<2,>=1.10 in /Users/alex.holachek/Desktop/tutorial/myenv/lib/python3.9/site-packages (from deprecated>=1.2.9.3->llama-index) (1.16.0)\n",
      "Requirement already satisfied: regex>=2021.8.3 in /Users/alex.holachek/Desktop/tutorial/myenv/lib/python3.9/site-packages (from nltk<4.0.0,>=3.8.1->llama-index) (2023.12.25)\n",
      "Requirement already satisfied: click in /Users/alex.holachek/Desktop/tutorial/myenv/lib/python3.9/site-packages (from nltk<4.0.0,>=3.8.1->llama-index) (8.1.7)\n",
      "Requirement already satisfied: tqdm in /Users/alex.holachek/Desktop/tutorial/myenv/lib/python3.9/site-packages (from nltk<4.0.0,>=3.8.1->llama-index) (4.66.1)\n",
      "Requirement already satisfied: joblib in /Users/alex.holachek/Desktop/tutorial/myenv/lib/python3.9/site-packages (from nltk<4.0.0,>=3.8.1->llama-index) (1.3.2)\n",
      "Requirement already satisfied: pydantic<3,>=1.9.0 in /Users/alex.holachek/Desktop/tutorial/myenv/lib/python3.9/site-packages (from openai>=1.1.0->llama-index) (2.5.3)\n",
      "Requirement already satisfied: sniffio in /Users/alex.holachek/Desktop/tutorial/myenv/lib/python3.9/site-packages (from openai>=1.1.0->llama-index) (1.3.0)\n",
      "Requirement already satisfied: distro<2,>=1.7.0 in /Users/alex.holachek/Desktop/tutorial/myenv/lib/python3.9/site-packages (from openai>=1.1.0->llama-index) (1.9.0)\n",
      "Requirement already satisfied: anyio<5,>=3.5.0 in /Users/alex.holachek/Desktop/tutorial/myenv/lib/python3.9/site-packages (from openai>=1.1.0->llama-index) (4.2.0)\n",
      "Requirement already satisfied: idna>=2.8 in /Users/alex.holachek/Desktop/tutorial/myenv/lib/python3.9/site-packages (from anyio<5,>=3.5.0->openai>=1.1.0->llama-index) (3.6)\n",
      "Requirement already satisfied: exceptiongroup>=1.0.2 in /Users/alex.holachek/Desktop/tutorial/myenv/lib/python3.9/site-packages (from anyio<5,>=3.5.0->openai>=1.1.0->llama-index) (1.2.0)\n",
      "Requirement already satisfied: certifi in /Users/alex.holachek/Desktop/tutorial/myenv/lib/python3.9/site-packages (from httpx->llama-index) (2023.11.17)\n",
      "Requirement already satisfied: httpcore==1.* in /Users/alex.holachek/Desktop/tutorial/myenv/lib/python3.9/site-packages (from httpx->llama-index) (1.0.2)\n",
      "Requirement already satisfied: h11<0.15,>=0.13 in /Users/alex.holachek/Desktop/tutorial/myenv/lib/python3.9/site-packages (from httpcore==1.*->httpx->llama-index) (0.14.0)\n",
      "Requirement already satisfied: pydantic-core==2.14.6 in /Users/alex.holachek/Desktop/tutorial/myenv/lib/python3.9/site-packages (from pydantic<3,>=1.9.0->openai>=1.1.0->llama-index) (2.14.6)\n",
      "Requirement already satisfied: annotated-types>=0.4.0 in /Users/alex.holachek/Desktop/tutorial/myenv/lib/python3.9/site-packages (from pydantic<3,>=1.9.0->openai>=1.1.0->llama-index) (0.6.0)\n",
      "Requirement already satisfied: charset-normalizer<4,>=2 in /Users/alex.holachek/Desktop/tutorial/myenv/lib/python3.9/site-packages (from requests>=2.31.0->llama-index) (3.3.2)\n",
      "Requirement already satisfied: urllib3<3,>=1.21.1 in /Users/alex.holachek/Desktop/tutorial/myenv/lib/python3.9/site-packages (from requests>=2.31.0->llama-index) (2.1.0)\n",
      "Requirement already satisfied: greenlet!=0.4.17 in /Users/alex.holachek/Desktop/tutorial/myenv/lib/python3.9/site-packages (from SQLAlchemy[asyncio]>=1.4.49->llama-index) (3.0.3)\n",
      "Requirement already satisfied: mypy-extensions>=0.3.0 in /Users/alex.holachek/Desktop/tutorial/myenv/lib/python3.9/site-packages (from typing-inspect>=0.8.0->llama-index) (1.0.0)\n",
      "Requirement already satisfied: marshmallow<4.0.0,>=3.18.0 in /Users/alex.holachek/Desktop/tutorial/myenv/lib/python3.9/site-packages (from dataclasses-json->llama-index) (3.20.1)\n",
      "Requirement already satisfied: packaging>=17.0 in /Users/alex.holachek/Desktop/tutorial/myenv/lib/python3.9/site-packages (from marshmallow<4.0.0,>=3.18.0->dataclasses-json->llama-index) (23.2)\n",
      "Requirement already satisfied: tzdata>=2022.1 in /Users/alex.holachek/Desktop/tutorial/myenv/lib/python3.9/site-packages (from pandas->llama-index) (2023.4)\n",
      "Requirement already satisfied: python-dateutil>=2.8.2 in /Users/alex.holachek/Desktop/tutorial/myenv/lib/python3.9/site-packages (from pandas->llama-index) (2.8.2)\n",
      "Requirement already satisfied: pytz>=2020.1 in /Users/alex.holachek/Desktop/tutorial/myenv/lib/python3.9/site-packages (from pandas->llama-index) (2023.3.post1)\n",
      "Requirement already satisfied: six>=1.5 in /Users/alex.holachek/Desktop/tutorial/myenv/lib/python3.9/site-packages (from python-dateutil>=2.8.2->pandas->llama-index) (1.16.0)\n",
      "\u001b[33mWARNING: You are using pip version 21.2.4; however, version 23.3.2 is available.\n",
      "You should consider upgrading via the '/Users/alex.holachek/Desktop/tutorial/myenv/bin/python -m pip install --upgrade pip' command.\u001b[0m\n",
      "Note: you may need to restart the kernel to use updated packages.\n"
     ]
    }
   ],
   "source": [
    "# install deps -- % makes sure they install in the current virtual env\n",
    "%pip install llama-index"
   ]
  },
  {
   "cell_type": "code",
   "execution_count": 2,
   "metadata": {},
   "outputs": [
    {
     "name": "stderr",
     "output_type": "stream",
     "text": [
      "/Users/alex.holachek/Desktop/tutorial/myenv/lib/python3.9/site-packages/urllib3/__init__.py:34: NotOpenSSLWarning: urllib3 v2 only supports OpenSSL 1.1.1+, currently the 'ssl' module is compiled with 'LibreSSL 2.8.3'. See: https://github.com/urllib3/urllib3/issues/3020\n",
      "  warnings.warn(\n"
     ]
    }
   ],
   "source": [
    "# stub out the index for demo purposes\n",
    "from llama_index import (\n",
    "    VectorStoreIndex,\n",
    ")\n",
    "\n",
    "from llama_index.schema import Document\n",
    "\n",
    "document = Document(text=\"foobar\")\n",
    "\n",
    "index = VectorStoreIndex.from_documents([document])"
   ]
  },
  {
   "cell_type": "code",
   "execution_count": null,
   "metadata": {},
   "outputs": [],
   "source": [
    "base_prompt = \"What happened in episode 3 of season 1 of Better Call Saul? Summarize the episode in bullet points.\""
   ]
  },
  {
   "cell_type": "code",
   "execution_count": 4,
   "metadata": {},
   "outputs": [
    {
     "name": "stdout",
     "output_type": "stream",
     "text": [
      "- The episode is titled \"Nacho\" and aired on February 16, 2015.\n",
      "- Jimmy McGill, a struggling lawyer, is shown working at a nail salon and trying to make ends meet.\n",
      "- Jimmy meets with a potential client, Krazy-8, who is accused of stealing baseball cards. Jimmy tries to negotiate a deal with the store owner, but fails.\n",
      "- Jimmy's brother, Chuck, who suffers from electromagnetic hypersensitivity, is shown living in a house with no electricity and relying on lanterns.\n",
      "- Jimmy meets with Nacho Varga, a member of the criminal underworld, who wants Jimmy's help in a scheme to steal money from Krazy-8's father.\n",
      "- Jimmy initially refuses to get involved but later changes his mind and agrees to help Nacho.\n",
      "- Jimmy and Nacho break into Krazy-8's father's house to steal the money, but they find it empty.\n",
      "- Jimmy realizes that Nacho set him up and used him to gain information about Krazy-8's father's house.\n",
      "- In the final scene, Jimmy confronts Nacho and warns him to stay away from him.\n",
      "- The episode ends with Jimmy returning to his nail salon job, feeling defeated.\n"
     ]
    }
   ],
   "source": [
    "from llama_index.prompts import PromptTemplate\n",
    "\n",
    "# the most simple possible template\n",
    "text_qa_template_str = \"\"\"\n",
    "{query_str}\n",
    "\"\"\"\n",
    "\n",
    "text_qa_template = PromptTemplate(text_qa_template_str)\n",
    "\n",
    "no_rag_context_query_engine = index.as_query_engine(text_qa_template=text_qa_template)\n",
    "\n",
    "response = no_rag_context_query_engine.query(base_prompt)\n",
    "\n",
    "print(response)"
   ]
  },
  {
   "cell_type": "markdown",
   "metadata": {},
   "source": [
    "### Editing the Prompt"
   ]
  },
  {
   "cell_type": "code",
   "execution_count": 8,
   "metadata": {},
   "outputs": [
    {
     "name": "stdout",
     "output_type": "stream",
     "text": [
      "I'm sorry, but as an AI language model, my responses are generated based on a mixture of licensed data, data created by human trainers, and publicly available data. I do not have direct access to specific TV show episodes or their summaries from platforms like Wikipedia. Therefore, I cannot provide you with a summary of episode 3 of season 1 of Better Call Saul. However, I can try to answer other questions you may have or assist with general information.\n"
     ]
    }
   ],
   "source": [
    "# let's try a new template that attempts to ward off hallucinations\n",
    "text_qa_template_str = \"\"\"\n",
    "Answer the question: {query_str}. If you don't know the answer, say \"I don't know\".\n",
    "\"\"\"\n",
    "\n",
    "text_qa_template = PromptTemplate(text_qa_template_str)\n",
    "\n",
    "no_rag_context_query_engine = index.as_query_engine(text_qa_template=text_qa_template)\n",
    "\n",
    "response = no_rag_context_query_engine.query(base_prompt)\n",
    "print(response)\n"
   ]
  },
  {
   "cell_type": "code",
   "execution_count": null,
   "metadata": {},
   "outputs": [],
   "source": []
  }
 ],
 "metadata": {
  "kernelspec": {
   "display_name": "myenv",
   "language": "python",
   "name": "python3"
  },
  "language_info": {
   "codemirror_mode": {
    "name": "ipython",
    "version": 3
   },
   "file_extension": ".py",
   "mimetype": "text/x-python",
   "name": "python",
   "nbconvert_exporter": "python",
   "pygments_lexer": "ipython3",
   "version": "3.9.6"
  }
 },
 "nbformat": 4,
 "nbformat_minor": 2
}
