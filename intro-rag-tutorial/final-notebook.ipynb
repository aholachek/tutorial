{
 "cells": [
  {
   "cell_type": "code",
   "execution_count": null,
   "id": "8b131fe9",
   "metadata": {},
   "outputs": [],
   "source": [
    "# install deps -- % makes sure they install in the current virtual env\n",
    "%pip install transformers\n",
    "%pip install torch torchvision torchaudio\n",
    "%pip install llama-index"
   ]
  },
  {
   "cell_type": "markdown",
   "id": "000cfcb8",
   "metadata": {},
   "source": [
    "### Create index\n"
   ]
  },
  {
   "cell_type": "code",
   "execution_count": null,
   "id": "26aeefa8",
   "metadata": {
    "scrolled": true
   },
   "outputs": [],
   "source": [
    "# to save money we're using the local embed model instead of the OpenAI default text-embedding-ada-002\n",
    "# this will use a HuggingFace embedding model instead\n",
    "\n",
    "from llama_index import (\n",
    "    ServiceContext,\n",
    "    set_global_service_context,\n",
    ")\n",
    "\n",
    "service_context = ServiceContext.from_defaults(embed_model=\"local\")\n",
    "set_global_service_context(service_context)"
   ]
  },
  {
   "cell_type": "code",
   "execution_count": null,
   "id": "3133a67d",
   "metadata": {},
   "outputs": [],
   "source": [
    "import json\n",
    "import os.path\n",
    "\n",
    "from llama_index import (\n",
    "    StorageContext,\n",
    "    VectorStoreIndex,\n",
    "    download_loader,\n",
    "    load_index_from_storage,\n",
    ")\n",
    "\n",
    "PERSIST_DIR = \"./storage\"\n",
    "FORCE_REINDEX = True\n",
    "\n",
    "\n",
    "def create_and_store_embeddings():\n",
    "    # load wikipedia urls\n",
    "    f = open(\"season_one_episodes.json\")\n",
    "    urls = json.load(f)\n",
    "\n",
    "    BeautifulSoupWebReader = download_loader(\"BeautifulSoupWebReader\")\n",
    "    loader = BeautifulSoupWebReader()\n",
    "    documents = loader.load_data(urls=urls)\n",
    "    index = VectorStoreIndex.from_documents(documents)\n",
    "    # store it for later\n",
    "    index.storage_context.persist(persist_dir=PERSIST_DIR)\n",
    "    return index\n",
    "\n",
    "\n",
    "def load_existing_index():\n",
    "    storage_context = StorageContext.from_defaults(persist_dir=PERSIST_DIR)\n",
    "    return load_index_from_storage(storage_context)\n",
    "\n",
    "\n",
    "if FORCE_REINDEX or not os.path.exists(PERSIST_DIR):\n",
    "    index = create_and_store_embeddings()\n",
    "else:\n",
    "    index = load_existing_index()"
   ]
  },
  {
   "cell_type": "markdown",
   "id": "cbad1eeb",
   "metadata": {},
   "source": [
    "### Create query engine\n"
   ]
  },
  {
   "cell_type": "code",
   "execution_count": null,
   "id": "765eee69",
   "metadata": {},
   "outputs": [],
   "source": [
    "from llama_index.prompts import PromptTemplate\n",
    "\n",
    "base_prompt = \"What happened in episode 3 of season 1 of Better Call Saul? Summarize the episode in bullet points.\"\n",
    "\n",
    "text_qa_template_str = \"\"\"\n",
    "  Context information is provided below:\n",
    "  ________________________________________\n",
    "  {context_str}\n",
    "  ________________________________________\n",
    "  Using only the context information, answer the question: {query_str}\n",
    "  If the context isn't helpful, say that you don't know the answer.\n",
    "  \"\"\"\n",
    "\n",
    "text_qa_template = PromptTemplate(text_qa_template_str)\n",
    "\n",
    "query_engine = index.as_query_engine(text_qa_template=text_qa_template)\n",
    "\n",
    "response = query_engine.query(\"Who is Kim Wexler?\")\n",
    "print(response)"
   ]
  },
  {
   "cell_type": "code",
   "execution_count": null,
   "id": "5b0b3008",
   "metadata": {},
   "outputs": [],
   "source": []
  }
 ],
 "metadata": {
  "kernelspec": {
   "display_name": "myenv",
   "language": "python",
   "name": "python3"
  },
  "language_info": {
   "codemirror_mode": {
    "name": "ipython",
    "version": 3
   },
   "file_extension": ".py",
   "mimetype": "text/x-python",
   "name": "python",
   "nbconvert_exporter": "python",
   "pygments_lexer": "ipython3",
   "version": "3.9.6"
  }
 },
 "nbformat": 4,
 "nbformat_minor": 5
}
